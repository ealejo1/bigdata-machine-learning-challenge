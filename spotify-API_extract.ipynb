{
 "cells": [
  {
   "cell_type": "code",
   "execution_count": 14,
   "metadata": {},
   "outputs": [],
   "source": [
    "# Dependencies\n",
    "import json\n",
    "import requests\n",
    "import pandas as pd\n",
    "import base64\n",
    "from config_spotify import client_id, client_secret"
   ]
  },
  {
   "cell_type": "code",
   "execution_count": 15,
   "metadata": {},
   "outputs": [],
   "source": [
    "# Need to encode the client_id and client_secret using base64 library to get the access token\n",
    "authorization = f\"{client_id}:{client_secret}\"\n",
    "authorization_encoded = base64.b64encode(authorization.encode(\"utf-8\"))\n",
    "authorization_encoded_str = str(authorization_encoded, \"utf-8\")"
   ]
  },
  {
   "cell_type": "code",
   "execution_count": 16,
   "metadata": {},
   "outputs": [
    {
     "name": "stdout",
     "output_type": "stream",
     "text": [
      "{\n",
      "    \"access_token\": \"BQBlPVBhSOarQIFk1vx7wKS7il8_Az7-qhdIgMbbDaRjv8H00v3R58p2GI77fWl8ptkE3Osf5_QtfrqofIs\",\n",
      "    \"token_type\": \"Bearer\",\n",
      "    \"expires_in\": 3600,\n",
      "    \"scope\": \"\"\n",
      "}\n"
     ]
    }
   ],
   "source": [
    "# Request access token for the Spotify API\n",
    "data = {'grant_type': 'client_credentials'}\n",
    "headers = {'Authorization': f\"Basic {authorization_encoded_str}\"}\n",
    "\n",
    "token_response = requests.post('https://accounts.spotify.com/api/token', data=data, headers=headers)\n",
    "token_response_json = token_response.json()\n",
    "\n",
    "print(json.dumps(token_response_json, indent = 4))"
   ]
  },
  {
   "cell_type": "code",
   "execution_count": 17,
   "metadata": {},
   "outputs": [],
   "source": [
    "# Get the access_token for requesting the API\n",
    "request_authorization = token_response_json[\"access_token\"]"
   ]
  },
  {
   "cell_type": "code",
   "execution_count": 18,
   "metadata": {},
   "outputs": [
    {
     "name": "stdout",
     "output_type": "stream",
     "text": [
      "{\n",
      "    \"error\": {\n",
      "        \"status\": 401,\n",
      "        \"message\": \"Unauthorized.\"\n",
      "    }\n",
      "}\n"
     ]
    }
   ],
   "source": [
    "# Getting the user_id\n",
    "user_id_url = \"https://api.spotify.com/v1/me\"\n",
    "headers = {'Authorization': f\"Bearer {request_authorization}\"}\n",
    "\n",
    "user_id_response = requests.get(user_id_url, headers=headers)\n",
    "user_id_response_json = user_id_response.json()\n",
    "\n",
    "print(json.dumps(user_id_response_json, indent = 4))"
   ]
  },
  {
   "cell_type": "code",
   "execution_count": 13,
   "metadata": {},
   "outputs": [
    {
     "data": {
      "text/plain": [
       "<Response [403]>"
      ]
     },
     "execution_count": 13,
     "metadata": {},
     "output_type": "execute_result"
    }
   ],
   "source": [
    "# Get user's top tracks\n",
    "headers = {'Authorization': f\"Bearer {request_authorization}\"}\n",
    "\n",
    "top_tracks = requests.get(\"https://api.spotify.com/v1/me/top/tracks\", headers=headers)\n",
    "top_tracks\n",
    "# top_tracks_json = top_tracks.json()\n",
    "\n",
    "# print(json.dumps(top_tracks_json), indent = 4)"
   ]
  },
  {
   "cell_type": "code",
   "execution_count": 1,
   "metadata": {},
   "outputs": [
    {
     "name": "stdout",
     "output_type": "stream",
     "text": [
      "Collecting spotipy\n",
      "  Downloading https://files.pythonhosted.org/packages/b2/67/ea788ae3d7e3aad0b0ef72a4f5b6c24c1dbb3db83fd57efc221f86b4fe87/spotipy-2.12.0-py3-none-any.whl\n",
      "Requirement already satisfied, skipping upgrade: six>=1.10.0 in /Users/michellehandipranata/opt/anaconda3/lib/python3.7/site-packages (from spotipy) (1.12.0)\n",
      "Requirement already satisfied, skipping upgrade: requests>=2.20.0 in /Users/michellehandipranata/opt/anaconda3/lib/python3.7/site-packages (from spotipy) (2.22.0)\n",
      "Requirement already satisfied, skipping upgrade: idna<2.9,>=2.5 in /Users/michellehandipranata/opt/anaconda3/lib/python3.7/site-packages (from requests>=2.20.0->spotipy) (2.8)\n",
      "Requirement already satisfied, skipping upgrade: certifi>=2017.4.17 in /Users/michellehandipranata/opt/anaconda3/lib/python3.7/site-packages (from requests>=2.20.0->spotipy) (2019.9.11)\n",
      "Requirement already satisfied, skipping upgrade: chardet<3.1.0,>=3.0.2 in /Users/michellehandipranata/opt/anaconda3/lib/python3.7/site-packages (from requests>=2.20.0->spotipy) (3.0.4)\n",
      "Requirement already satisfied, skipping upgrade: urllib3!=1.25.0,!=1.25.1,<1.26,>=1.21.1 in /Users/michellehandipranata/opt/anaconda3/lib/python3.7/site-packages (from requests>=2.20.0->spotipy) (1.24.2)\n",
      "Installing collected packages: spotipy\n",
      "Successfully installed spotipy-2.12.0\n",
      "Note: you may need to restart the kernel to use updated packages.\n"
     ]
    }
   ],
   "source": [
    "pip install spotipy --upgrade"
   ]
  },
  {
   "cell_type": "code",
   "execution_count": 25,
   "metadata": {},
   "outputs": [],
   "source": [
    "import spotipy\n",
    "from spotipy.oauth2 import SpotifyClientCredentials\n",
    "\n",
    "cid = client_id\n",
    "secret = client_secret\n",
    "\n",
    "client_credentials_manager = SpotifyClientCredentials(client_id= cid, client_secret= secret)\n",
    "sp = spotipy.Spotify(client_credentials_manager= client_credentials_manager)"
   ]
  },
  {
   "cell_type": "code",
   "execution_count": 26,
   "metadata": {},
   "outputs": [],
   "source": [
    "artist_name = []\n",
    "track_name = []\n",
    "popularity = []\n",
    "track_id = []\n",
    "track_uri = []\n",
    "\n",
    "for i in range(0,10):\n",
    "    track_results = sp.search(q='year:2018', type='track', limit=10, offset=i)\n",
    "    for i, t in enumerate(track_results['tracks']['items']):\n",
    "        artist_name.append(t['artists'][0]['name'])\n",
    "        track_name.append(t['name'])\n",
    "        track_id.append(t['id'])\n",
    "        popularity.append(t['popularity'])\n",
    "        track_uri.append(t['uri'])"
   ]
  },
  {
   "cell_type": "code",
   "execution_count": 31,
   "metadata": {},
   "outputs": [
    {
     "name": "stdout",
     "output_type": "stream",
     "text": [
      "(100, 5)\n"
     ]
    },
    {
     "data": {
      "text/html": [
       "<div>\n",
       "<style scoped>\n",
       "    .dataframe tbody tr th:only-of-type {\n",
       "        vertical-align: middle;\n",
       "    }\n",
       "\n",
       "    .dataframe tbody tr th {\n",
       "        vertical-align: top;\n",
       "    }\n",
       "\n",
       "    .dataframe thead th {\n",
       "        text-align: right;\n",
       "    }\n",
       "</style>\n",
       "<table border=\"1\" class=\"dataframe\">\n",
       "  <thead>\n",
       "    <tr style=\"text-align: right;\">\n",
       "      <th></th>\n",
       "      <th>artist_name</th>\n",
       "      <th>track_name</th>\n",
       "      <th>popularity</th>\n",
       "      <th>track_id</th>\n",
       "      <th>track_uri</th>\n",
       "    </tr>\n",
       "  </thead>\n",
       "  <tbody>\n",
       "    <tr>\n",
       "      <td>0</td>\n",
       "      <td>Trevor Daniel</td>\n",
       "      <td>Falling</td>\n",
       "      <td>96</td>\n",
       "      <td>4TnjEaWOeW0eKTKIEvJyCa</td>\n",
       "      <td>spotify:track:4TnjEaWOeW0eKTKIEvJyCa</td>\n",
       "    </tr>\n",
       "    <tr>\n",
       "      <td>1</td>\n",
       "      <td>Juice WRLD</td>\n",
       "      <td>Lucid Dreams</td>\n",
       "      <td>90</td>\n",
       "      <td>285pBltuF7vW8TeWk8hdRR</td>\n",
       "      <td>spotify:track:285pBltuF7vW8TeWk8hdRR</td>\n",
       "    </tr>\n",
       "    <tr>\n",
       "      <td>2</td>\n",
       "      <td>Travis Scott</td>\n",
       "      <td>SICKO MODE</td>\n",
       "      <td>92</td>\n",
       "      <td>2xLMifQCjDGFmkHkpNLD9h</td>\n",
       "      <td>spotify:track:2xLMifQCjDGFmkHkpNLD9h</td>\n",
       "    </tr>\n",
       "    <tr>\n",
       "      <td>3</td>\n",
       "      <td>Juice WRLD</td>\n",
       "      <td>All Girls Are The Same</td>\n",
       "      <td>86</td>\n",
       "      <td>4VXIryQMWpIdGgYR4TrjT1</td>\n",
       "      <td>spotify:track:4VXIryQMWpIdGgYR4TrjT1</td>\n",
       "    </tr>\n",
       "    <tr>\n",
       "      <td>4</td>\n",
       "      <td>Billie Eilish</td>\n",
       "      <td>lovely (with Khalid)</td>\n",
       "      <td>91</td>\n",
       "      <td>0u2P5u6lvoDfwTYjAADbn4</td>\n",
       "      <td>spotify:track:0u2P5u6lvoDfwTYjAADbn4</td>\n",
       "    </tr>\n",
       "    <tr>\n",
       "      <td>...</td>\n",
       "      <td>...</td>\n",
       "      <td>...</td>\n",
       "      <td>...</td>\n",
       "      <td>...</td>\n",
       "      <td>...</td>\n",
       "    </tr>\n",
       "    <tr>\n",
       "      <td>95</td>\n",
       "      <td>Juice WRLD</td>\n",
       "      <td>Armed And Dangerous</td>\n",
       "      <td>83</td>\n",
       "      <td>5wujBwqG7INdStqGd4tRMX</td>\n",
       "      <td>spotify:track:5wujBwqG7INdStqGd4tRMX</td>\n",
       "    </tr>\n",
       "    <tr>\n",
       "      <td>96</td>\n",
       "      <td>Meek Mill</td>\n",
       "      <td>Going Bad (feat. Drake)</td>\n",
       "      <td>84</td>\n",
       "      <td>2IRZnDFmlqMuOrYOLnZZyc</td>\n",
       "      <td>spotify:track:2IRZnDFmlqMuOrYOLnZZyc</td>\n",
       "    </tr>\n",
       "    <tr>\n",
       "      <td>97</td>\n",
       "      <td>Juice WRLD</td>\n",
       "      <td>Legends</td>\n",
       "      <td>84</td>\n",
       "      <td>1Knctxx9vGZxpZfF66BIEa</td>\n",
       "      <td>spotify:track:1Knctxx9vGZxpZfF66BIEa</td>\n",
       "    </tr>\n",
       "    <tr>\n",
       "      <td>98</td>\n",
       "      <td>A Boogie Wit da Hoodie</td>\n",
       "      <td>Swervin (feat. 6ix9ine)</td>\n",
       "      <td>84</td>\n",
       "      <td>1wJRveJZLSb1rjhnUHQiv6</td>\n",
       "      <td>spotify:track:1wJRveJZLSb1rjhnUHQiv6</td>\n",
       "    </tr>\n",
       "    <tr>\n",
       "      <td>99</td>\n",
       "      <td>Post Malone</td>\n",
       "      <td>Better Now</td>\n",
       "      <td>86</td>\n",
       "      <td>7dt6x5M1jzdTEt8oCbisTK</td>\n",
       "      <td>spotify:track:7dt6x5M1jzdTEt8oCbisTK</td>\n",
       "    </tr>\n",
       "  </tbody>\n",
       "</table>\n",
       "<p>100 rows × 5 columns</p>\n",
       "</div>"
      ],
      "text/plain": [
       "               artist_name               track_name  popularity  \\\n",
       "0            Trevor Daniel                  Falling          96   \n",
       "1               Juice WRLD             Lucid Dreams          90   \n",
       "2             Travis Scott               SICKO MODE          92   \n",
       "3               Juice WRLD   All Girls Are The Same          86   \n",
       "4            Billie Eilish     lovely (with Khalid)          91   \n",
       "..                     ...                      ...         ...   \n",
       "95              Juice WRLD      Armed And Dangerous          83   \n",
       "96               Meek Mill  Going Bad (feat. Drake)          84   \n",
       "97              Juice WRLD                  Legends          84   \n",
       "98  A Boogie Wit da Hoodie  Swervin (feat. 6ix9ine)          84   \n",
       "99             Post Malone               Better Now          86   \n",
       "\n",
       "                  track_id                             track_uri  \n",
       "0   4TnjEaWOeW0eKTKIEvJyCa  spotify:track:4TnjEaWOeW0eKTKIEvJyCa  \n",
       "1   285pBltuF7vW8TeWk8hdRR  spotify:track:285pBltuF7vW8TeWk8hdRR  \n",
       "2   2xLMifQCjDGFmkHkpNLD9h  spotify:track:2xLMifQCjDGFmkHkpNLD9h  \n",
       "3   4VXIryQMWpIdGgYR4TrjT1  spotify:track:4VXIryQMWpIdGgYR4TrjT1  \n",
       "4   0u2P5u6lvoDfwTYjAADbn4  spotify:track:0u2P5u6lvoDfwTYjAADbn4  \n",
       "..                     ...                                   ...  \n",
       "95  5wujBwqG7INdStqGd4tRMX  spotify:track:5wujBwqG7INdStqGd4tRMX  \n",
       "96  2IRZnDFmlqMuOrYOLnZZyc  spotify:track:2IRZnDFmlqMuOrYOLnZZyc  \n",
       "97  1Knctxx9vGZxpZfF66BIEa  spotify:track:1Knctxx9vGZxpZfF66BIEa  \n",
       "98  1wJRveJZLSb1rjhnUHQiv6  spotify:track:1wJRveJZLSb1rjhnUHQiv6  \n",
       "99  7dt6x5M1jzdTEt8oCbisTK  spotify:track:7dt6x5M1jzdTEt8oCbisTK  \n",
       "\n",
       "[100 rows x 5 columns]"
      ]
     },
     "execution_count": 31,
     "metadata": {},
     "output_type": "execute_result"
    }
   ],
   "source": [
    "track_dataframe = pd.DataFrame({'artist_name' : artist_name, 'track_name' : track_name, 'popularity' : popularity, 'track_id' : track_id, 'track_uri' : track_uri})\n",
    "print(track_dataframe.shape)\n",
    "\n",
    "track_dataframe"
   ]
  },
  {
   "cell_type": "code",
   "execution_count": 30,
   "metadata": {
    "scrolled": false
   },
   "outputs": [
    {
     "name": "stdout",
     "output_type": "stream",
     "text": [
      "[\n",
      "    {\n",
      "        \"danceability\": 0.511,\n",
      "        \"energy\": 0.566,\n",
      "        \"key\": 6,\n",
      "        \"loudness\": -7.23,\n",
      "        \"mode\": 0,\n",
      "        \"speechiness\": 0.2,\n",
      "        \"acousticness\": 0.349,\n",
      "        \"instrumentalness\": 0,\n",
      "        \"liveness\": 0.34,\n",
      "        \"valence\": 0.218,\n",
      "        \"tempo\": 83.903,\n",
      "        \"type\": \"audio_features\",\n",
      "        \"id\": \"285pBltuF7vW8TeWk8hdRR\",\n",
      "        \"uri\": \"spotify:track:285pBltuF7vW8TeWk8hdRR\",\n",
      "        \"track_href\": \"https://api.spotify.com/v1/tracks/285pBltuF7vW8TeWk8hdRR\",\n",
      "        \"analysis_url\": \"https://api.spotify.com/v1/audio-analysis/285pBltuF7vW8TeWk8hdRR\",\n",
      "        \"duration_ms\": 239836,\n",
      "        \"time_signature\": 4\n",
      "    }\n",
      "]\n"
     ]
    }
   ],
   "source": [
    "# shows audio analysis for the given track\n",
    "\n",
    "from __future__ import print_function    # (at top of module)\n",
    "from spotipy.oauth2 import SpotifyClientCredentials\n",
    "import json\n",
    "import spotipy\n",
    "import time\n",
    "import sys\n",
    "\n",
    "\n",
    "client_credentials_manager = SpotifyClientCredentials(client_id= cid, client_secret= secret)\n",
    "sp = spotipy.Spotify(client_credentials_manager=client_credentials_manager)\n",
    "\n",
    "# if len(sys.argv) > 1:\n",
    "#     tid = sys.argv[1]\n",
    "# else:\n",
    "#     tid = 'spotify:track:4TTV7EcfroSLWzXRY6gLv6'\n",
    "\n",
    "# start = time.time()\n",
    "analysis = sp.audio_features(\"spotify:track:285pBltuF7vW8TeWk8hdRR\")\n",
    "# delta = time.time() - start\n",
    "print(json.dumps(analysis, indent=4))\n",
    "# print(\"analysis retrieved in %.2f seconds\" % (delta,))"
   ]
  },
  {
   "cell_type": "code",
   "execution_count": null,
   "metadata": {},
   "outputs": [],
   "source": []
  }
 ],
 "metadata": {
  "kernelspec": {
   "display_name": "Python 3",
   "language": "python",
   "name": "python3"
  },
  "language_info": {
   "codemirror_mode": {
    "name": "ipython",
    "version": 3
   },
   "file_extension": ".py",
   "mimetype": "text/x-python",
   "name": "python",
   "nbconvert_exporter": "python",
   "pygments_lexer": "ipython3",
   "version": "3.7.4"
  }
 },
 "nbformat": 4,
 "nbformat_minor": 2
}
