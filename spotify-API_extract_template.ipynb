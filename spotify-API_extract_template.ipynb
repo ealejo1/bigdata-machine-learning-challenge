{
 "cells": [
  {
   "cell_type": "markdown",
   "metadata": {},
   "source": [
    "# Extract Data from Spotify API"
   ]
  },
  {
   "cell_type": "markdown",
   "metadata": {},
   "source": [
    "Spotify API has python library called 'Spotipy'"
   ]
  },
  {
   "cell_type": "code",
   "execution_count": null,
   "metadata": {},
   "outputs": [],
   "source": [
    "pip install spotipy --upgrade"
   ]
  },
  {
   "cell_type": "code",
   "execution_count": 1,
   "metadata": {},
   "outputs": [],
   "source": [
    "# Dependencies\n",
    "import pandas as pd\n",
    "import json\n",
    "import requests\n",
    "import time\n",
    "\n",
    "import spotipy\n",
    "from spotipy.oauth2 import SpotifyClientCredentials\n",
    "from config_spotify import client_id, client_secret\n",
    "\n",
    "# from __future__ import print_function\n",
    "# import sys"
   ]
  },
  {
   "cell_type": "code",
   "execution_count": 2,
   "metadata": {},
   "outputs": [],
   "source": [
    "# Credentials to access Spotify API using spotipy library\n",
    "cid = client_id\n",
    "secret = client_secret\n",
    "\n",
    "client_credentials_manager = SpotifyClientCredentials(client_id= cid, client_secret= secret)\n",
    "sp = spotipy.Spotify(client_credentials_manager= client_credentials_manager)"
   ]
  },
  {
   "cell_type": "markdown",
   "metadata": {},
   "source": [
    "### Request the data using Spotipy based on Genres"
   ]
  },
  {
   "cell_type": "code",
   "execution_count": null,
   "metadata": {},
   "outputs": [],
   "source": [
    "# List of genres we will extract from Spotipy\n",
    "# genre:pop\n",
    "# genre:hip-hop\n",
    "# genre:jazz\n",
    "# genre:rock\n",
    "# genre:k-pop\n",
    "# genre:instrumental\n",
    "# genre:asmr"
   ]
  },
  {
   "cell_type": "code",
   "execution_count": 3,
   "metadata": {},
   "outputs": [],
   "source": [
    "# Call the request to get the songs/tracks data by year\n",
    "artist_name = []\n",
    "track_name = []\n",
    "popularity = []\n",
    "track_id = []\n",
    "track_uri = []\n",
    "\n",
    "for i in range(0,20):\n",
    "    track_results = sp.search(q='genre:instrumental', type='track', limit=50, offset=i)\n",
    "    \n",
    "    for i, t in enumerate(track_results['tracks']['items']):\n",
    "        artist_name.append(t['artists'][0]['name'])\n",
    "        track_name.append(t['name'])\n",
    "        track_id.append(t['id'])\n",
    "        popularity.append(t['popularity'])\n",
    "        track_uri.append(t['uri'])\n",
    "    time.sleep(5)"
   ]
  },
  {
   "cell_type": "code",
   "execution_count": 4,
   "metadata": {},
   "outputs": [
    {
     "name": "stdout",
     "output_type": "stream",
     "text": [
      "(1000, 6)\n"
     ]
    },
    {
     "data": {
      "text/html": [
       "<div>\n",
       "<style scoped>\n",
       "    .dataframe tbody tr th:only-of-type {\n",
       "        vertical-align: middle;\n",
       "    }\n",
       "\n",
       "    .dataframe tbody tr th {\n",
       "        vertical-align: top;\n",
       "    }\n",
       "\n",
       "    .dataframe thead th {\n",
       "        text-align: right;\n",
       "    }\n",
       "</style>\n",
       "<table border=\"1\" class=\"dataframe\">\n",
       "  <thead>\n",
       "    <tr style=\"text-align: right;\">\n",
       "      <th></th>\n",
       "      <th>artist_name</th>\n",
       "      <th>track_name</th>\n",
       "      <th>popularity</th>\n",
       "      <th>track_id</th>\n",
       "      <th>track_uri</th>\n",
       "      <th>genre</th>\n",
       "    </tr>\n",
       "  </thead>\n",
       "  <tbody>\n",
       "    <tr>\n",
       "      <td>0</td>\n",
       "      <td>Steve Mokwebe</td>\n",
       "      <td>It Ends with Us</td>\n",
       "      <td>68</td>\n",
       "      <td>6RMjZgsE9IcQZqubTzLtDs</td>\n",
       "      <td>spotify:track:6RMjZgsE9IcQZqubTzLtDs</td>\n",
       "      <td>instrumental</td>\n",
       "    </tr>\n",
       "    <tr>\n",
       "      <td>1</td>\n",
       "      <td>Rannar Sillard</td>\n",
       "      <td>Dream Voucher</td>\n",
       "      <td>68</td>\n",
       "      <td>2T6wyxLBkQ4Y2ZjTbpuYfr</td>\n",
       "      <td>spotify:track:2T6wyxLBkQ4Y2ZjTbpuYfr</td>\n",
       "      <td>instrumental</td>\n",
       "    </tr>\n",
       "    <tr>\n",
       "      <td>2</td>\n",
       "      <td>Vala Capon</td>\n",
       "      <td>Presto arriverà il sole</td>\n",
       "      <td>69</td>\n",
       "      <td>2jyJXuG0rIma11mOl4Fz7m</td>\n",
       "      <td>spotify:track:2jyJXuG0rIma11mOl4Fz7m</td>\n",
       "      <td>instrumental</td>\n",
       "    </tr>\n",
       "    <tr>\n",
       "      <td>3</td>\n",
       "      <td>Benette</td>\n",
       "      <td>Lily's Cradle</td>\n",
       "      <td>68</td>\n",
       "      <td>4UlarjdicLUPbdssOxWbYX</td>\n",
       "      <td>spotify:track:4UlarjdicLUPbdssOxWbYX</td>\n",
       "      <td>instrumental</td>\n",
       "    </tr>\n",
       "    <tr>\n",
       "      <td>4</td>\n",
       "      <td>Ever So Blue</td>\n",
       "      <td>Cessura</td>\n",
       "      <td>70</td>\n",
       "      <td>7uvey8m0ZfknE25sBVWoGY</td>\n",
       "      <td>spotify:track:7uvey8m0ZfknE25sBVWoGY</td>\n",
       "      <td>instrumental</td>\n",
       "    </tr>\n",
       "  </tbody>\n",
       "</table>\n",
       "</div>"
      ],
      "text/plain": [
       "      artist_name               track_name  popularity  \\\n",
       "0   Steve Mokwebe          It Ends with Us          68   \n",
       "1  Rannar Sillard            Dream Voucher          68   \n",
       "2      Vala Capon  Presto arriverà il sole          69   \n",
       "3         Benette            Lily's Cradle          68   \n",
       "4    Ever So Blue                  Cessura          70   \n",
       "\n",
       "                 track_id                             track_uri         genre  \n",
       "0  6RMjZgsE9IcQZqubTzLtDs  spotify:track:6RMjZgsE9IcQZqubTzLtDs  instrumental  \n",
       "1  2T6wyxLBkQ4Y2ZjTbpuYfr  spotify:track:2T6wyxLBkQ4Y2ZjTbpuYfr  instrumental  \n",
       "2  2jyJXuG0rIma11mOl4Fz7m  spotify:track:2jyJXuG0rIma11mOl4Fz7m  instrumental  \n",
       "3  4UlarjdicLUPbdssOxWbYX  spotify:track:4UlarjdicLUPbdssOxWbYX  instrumental  \n",
       "4  7uvey8m0ZfknE25sBVWoGY  spotify:track:7uvey8m0ZfknE25sBVWoGY  instrumental  "
      ]
     },
     "execution_count": 4,
     "metadata": {},
     "output_type": "execute_result"
    }
   ],
   "source": [
    "# Add the collected songs/tracks to DataFrame\n",
    "\n",
    "track_df = pd.DataFrame({\n",
    "    'artist_name' : artist_name, \n",
    "    'track_name' : track_name, \n",
    "    'popularity' : popularity, \n",
    "    'track_id' : track_id, \n",
    "    'track_uri' : track_uri\n",
    "})\n",
    "\n",
    "track_df['genre'] = 'instrumental'\n",
    "\n",
    "print(track_df.shape)\n",
    "track_df.head()"
   ]
  },
  {
   "cell_type": "code",
   "execution_count": null,
   "metadata": {},
   "outputs": [],
   "source": [
    "# Call the request to get shows audio features for each songs/tracks\n",
    "danceability = []\n",
    "energy = []\n",
    "loudness = []\n",
    "speechiness = []\n",
    "acousticness = []\n",
    "instrumentalness = []\n",
    "liveness = []\n",
    "valence = []\n",
    "tempo = []\n",
    "duration = []\n",
    "\n",
    "for uri in track_uri:\n",
    "    track_features = sp.audio_features(uri)\n",
    "#     print(track_features)\n",
    "    danceability.append(track_features[0][\"danceability\"])\n",
    "    energy.append(track_features[0][\"energy\"])\n",
    "    loudness.append(track_features[0][\"loudness\"])\n",
    "    speechiness.append(track_features[0][\"speechiness\"])\n",
    "    acousticness.append(track_features[0][\"acousticness\"])\n",
    "    instrumentalness.append(track_features[0][\"instrumentalness\"])\n",
    "    liveness.append(track_features[0][\"liveness\"])\n",
    "    valence.append(track_features[0][\"valence\"])\n",
    "    tempo.append(track_features[0][\"tempo\"])\n",
    "    duration.append(track_features[0][\"duration_ms\"])\n",
    "    time.sleep(7)"
   ]
  },
  {
   "cell_type": "markdown",
   "metadata": {},
   "source": [
    "## Add the extracted data from Spotipy to Data Frame"
   ]
  },
  {
   "cell_type": "code",
   "execution_count": null,
   "metadata": {},
   "outputs": [],
   "source": [
    "# Add the collected songs/tracks and their features to DataFrame\n",
    "track_features_df = pd.DataFrame({\n",
    "    'artist_name' : artist_name, \n",
    "    'track_name' : track_name, \n",
    "    'popularity' : popularity, \n",
    "    'track_id' : track_id, \n",
    "    'track_uri' : track_uri,\n",
    "    'danceability': danceability,\n",
    "    'energy': energy,\n",
    "    'loudness': loudness,\n",
    "    'speechiness': speechiness,\n",
    "    'acousticness': acousticness,\n",
    "    'instrumentalness': instrumentalness,\n",
    "    'liveness': liveness,\n",
    "    'valence': valence,\n",
    "    'tempo': tempo,\n",
    "    'duration': duration\n",
    "})\n",
    "\n",
    "track_features_df['genre'] = 'instrumental'\n",
    "\n",
    "print(track_features_df.shape)\n",
    "track_features_df"
   ]
  },
  {
   "cell_type": "markdown",
   "metadata": {},
   "source": [
    "# Export Data to CSV"
   ]
  },
  {
   "cell_type": "code",
   "execution_count": null,
   "metadata": {},
   "outputs": [],
   "source": [
    "# Export the DataFrame to csv file\n",
    "track_features_df.to_csv(\"spotify_data_instrumental.csv\", encoding=\"utf-8\", index=False)"
   ]
  },
  {
   "cell_type": "markdown",
   "metadata": {},
   "source": [
    "# For Testing Purpose (No need to run)"
   ]
  },
  {
   "cell_type": "code",
   "execution_count": null,
   "metadata": {},
   "outputs": [],
   "source": [
    "# To get audio features\n",
    "audio_features_test = sp.audio_features(\"spotify:track:285pBltuF7vW8TeWk8hdRR\")\n",
    "print(json.dumps(audio_features_test, indent=4))"
   ]
  },
  {
   "cell_type": "code",
   "execution_count": null,
   "metadata": {},
   "outputs": [],
   "source": [
    "# To get track information\n",
    "test_track_info = sp.track(\"spotify:track:6WrI0LAC5M1Rw2MnX2ZvEg\")\n",
    "print(json.dumps(test_track_info, indent=4))"
   ]
  },
  {
   "cell_type": "code",
   "execution_count": null,
   "metadata": {},
   "outputs": [],
   "source": [
    "# To get artist information\n",
    "test_artist_info = sp.artist(test_track_info[\"artists\"][0][\"uri\"])\n",
    "test_artist_info"
   ]
  },
  {
   "cell_type": "code",
   "execution_count": null,
   "metadata": {},
   "outputs": [],
   "source": [
    "# Call the request to show track info for each songs/tracks and get the artist ids\n",
    "# artist_uri = []\n",
    "\n",
    "# for uri in track_uri:\n",
    "#     track_info = sp.track(uri)\n",
    "#     artist_uri.append(track_info[\"artists\"][0][\"uri\"])"
   ]
  },
  {
   "cell_type": "code",
   "execution_count": null,
   "metadata": {},
   "outputs": [],
   "source": [
    "# Call the request to get artist genres for each artist ids\n",
    "\n",
    "# genres = []\n",
    "\n",
    "# for uri in artist_uri:\n",
    "#     artist_info = sp.artist(uri)\n",
    "# #     print(artist_info)\n",
    "#     genres.append(artist_info[genres])\n",
    "\n",
    "# genres"
   ]
  }
 ],
 "metadata": {
  "kernelspec": {
   "display_name": "Python 3",
   "language": "python",
   "name": "python3"
  },
  "language_info": {
   "codemirror_mode": {
    "name": "ipython",
    "version": 3
   },
   "file_extension": ".py",
   "mimetype": "text/x-python",
   "name": "python",
   "nbconvert_exporter": "python",
   "pygments_lexer": "ipython3",
   "version": "3.7.4"
  }
 },
 "nbformat": 4,
 "nbformat_minor": 2
}
